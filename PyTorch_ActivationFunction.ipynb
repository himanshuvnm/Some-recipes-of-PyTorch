{
  "nbformat": 4,
  "nbformat_minor": 0,
  "metadata": {
    "colab": {
      "provenance": []
    },
    "kernelspec": {
      "name": "python3",
      "display_name": "Python 3"
    },
    "language_info": {
      "name": "python"
    }
  },
  "cells": [
    {
      "cell_type": "code",
      "execution_count": 1,
      "metadata": {
        "id": "l3lUmmHdfkao"
      },
      "outputs": [],
      "source": [
        "import numpy as np\n",
        "from __future__ import print_function\n",
        "import torch\n",
        "import torch.nn as nn\n",
        "import torch.optim as optim\n",
        "import torch.nn.init as init\n",
        "import torch.nn.functional as F\n",
        "from torch.autograd import Variable"
      ]
    },
    {
      "cell_type": "code",
      "source": [
        "x=Variable(torch.randn([100,10]))\n",
        "y=Variable(torch.randn([100,30]))"
      ],
      "metadata": {
        "id": "D3g8HvqggCCX"
      },
      "execution_count": 3,
      "outputs": []
    },
    {
      "cell_type": "markdown",
      "source": [
        "In the following we have an affine and Bi-affine function."
      ],
      "metadata": {
        "id": "X3Kqmn2ohKC-"
      }
    },
    {
      "cell_type": "code",
      "source": [
        "linear=nn.Linear(in_features=10,out_features=5,bias=True)\n",
        "output_linear=linear(x)\n",
        "print('Output size : ', output_linear.size())\n",
        "\n",
        "bilinear=nn.Bilinear(in1_features=10,in2_features=30,out_features=5,bias=True)\n",
        "output_bilinear=bilinear(x,y)\n",
        "print('Output size : ', output_bilinear.size())"
      ],
      "metadata": {
        "colab": {
          "base_uri": "https://localhost:8080/"
        },
        "id": "BfYRTk7sgU9G",
        "outputId": "e45e2f93-34bd-4d2e-fc37-f7306779fad1"
      },
      "execution_count": 5,
      "outputs": [
        {
          "output_type": "stream",
          "name": "stdout",
          "text": [
            "Output size :  torch.Size([100, 5])\n",
            "Output size :  torch.Size([100, 5])\n"
          ]
        }
      ]
    },
    {
      "cell_type": "code",
      "source": [
        "#Sigmoid Function\n",
        "x=Variable(torch.randn(100,10))\n",
        "y=Variable(torch.randn(100,30))"
      ],
      "metadata": {
        "id": "Pd6_jYQMhCaw"
      },
      "execution_count": 7,
      "outputs": []
    },
    {
      "cell_type": "code",
      "source": [
        "sig=nn.Sigmoid()"
      ],
      "metadata": {
        "id": "w4YrcsGThaFL"
      },
      "execution_count": 8,
      "outputs": []
    },
    {
      "cell_type": "code",
      "source": [
        "output_sigx=sig(x)\n",
        "output_sigy=sig(y)"
      ],
      "metadata": {
        "id": "hREROCPMhir5"
      },
      "execution_count": 9,
      "outputs": []
    },
    {
      "cell_type": "code",
      "source": [
        "print('Output size : ',output_sigx.size())\n",
        "print('Output size : ',output_sigy.size())"
      ],
      "metadata": {
        "colab": {
          "base_uri": "https://localhost:8080/"
        },
        "id": "Svv4PS8zhpZo",
        "outputId": "5658f361-f7f7-448e-dc8c-f28145d20656"
      },
      "execution_count": 10,
      "outputs": [
        {
          "output_type": "stream",
          "name": "stdout",
          "text": [
            "Output size :  torch.Size([100, 10])\n",
            "Output size :  torch.Size([100, 30])\n"
          ]
        }
      ]
    },
    {
      "cell_type": "code",
      "source": [
        "print(x[0])"
      ],
      "metadata": {
        "colab": {
          "base_uri": "https://localhost:8080/"
        },
        "id": "fledT1Hfh0_r",
        "outputId": "79823ed7-7e86-4507-b41f-5bfa80f1c095"
      },
      "execution_count": 11,
      "outputs": [
        {
          "output_type": "stream",
          "name": "stdout",
          "text": [
            "tensor([-1.8613, -0.5659, -0.3212, -1.6794,  2.4609,  0.2571,  0.5800, -1.6271,\n",
            "         1.2723, -0.3490])\n"
          ]
        }
      ]
    },
    {
      "cell_type": "code",
      "source": [
        "print(output_sigx[0])"
      ],
      "metadata": {
        "colab": {
          "base_uri": "https://localhost:8080/"
        },
        "id": "p1Tq6y2Bh4BY",
        "outputId": "0ac9207b-9655-4758-84bc-8d481fe39a31"
      },
      "execution_count": 12,
      "outputs": [
        {
          "output_type": "stream",
          "name": "stdout",
          "text": [
            "tensor([0.1346, 0.3622, 0.4204, 0.1572, 0.9214, 0.5639, 0.6411, 0.1642, 0.7811,\n",
            "        0.4136])\n"
          ]
        }
      ]
    },
    {
      "cell_type": "code",
      "source": [
        "#Hyperbolic Tangent Function\n",
        "x=Variable(torch.rand(100,10))\n",
        "y=Variable(torch.randn(100,30))"
      ],
      "metadata": {
        "id": "B0qwWMcQh8TB"
      },
      "execution_count": 13,
      "outputs": []
    },
    {
      "cell_type": "code",
      "source": [
        "hyperbolic_tan=nn.Tanh()\n",
        "output_x=hyperbolic_tan(x)\n",
        "output_y=hyperbolic_tan(y)"
      ],
      "metadata": {
        "id": "4dePpwnWiSrV"
      },
      "execution_count": 14,
      "outputs": []
    },
    {
      "cell_type": "code",
      "source": [
        "output_x"
      ],
      "metadata": {
        "colab": {
          "base_uri": "https://localhost:8080/"
        },
        "id": "pLhL2QiUifDh",
        "outputId": "83b267be-81c5-46f1-def6-d67c13645416"
      },
      "execution_count": 15,
      "outputs": [
        {
          "output_type": "execute_result",
          "data": {
            "text/plain": [
              "tensor([[0.1695, 0.5913, 0.7099, 0.3522, 0.3923, 0.4524, 0.4316, 0.3416, 0.5966,\n",
              "         0.6196],\n",
              "        [0.6733, 0.2276, 0.4212, 0.5274, 0.5038, 0.3070, 0.2812, 0.7123, 0.5856,\n",
              "         0.1827],\n",
              "        [0.2927, 0.1115, 0.4183, 0.5845, 0.7451, 0.7035, 0.1560, 0.3652, 0.7518,\n",
              "         0.3043],\n",
              "        [0.0858, 0.5677, 0.2058, 0.0468, 0.5352, 0.6767, 0.6674, 0.7512, 0.0705,\n",
              "         0.2686],\n",
              "        [0.0776, 0.2798, 0.4923, 0.2831, 0.7038, 0.3151, 0.0989, 0.2754, 0.1229,\n",
              "         0.3837],\n",
              "        [0.3754, 0.4042, 0.4067, 0.6961, 0.4314, 0.1170, 0.5978, 0.7021, 0.5472,\n",
              "         0.3116],\n",
              "        [0.6196, 0.0124, 0.5588, 0.0777, 0.6218, 0.3827, 0.1345, 0.2451, 0.2066,\n",
              "         0.6236],\n",
              "        [0.2045, 0.5546, 0.1490, 0.0082, 0.1003, 0.6228, 0.5170, 0.7463, 0.4631,\n",
              "         0.7060],\n",
              "        [0.5385, 0.6595, 0.3986, 0.5711, 0.0972, 0.4897, 0.7047, 0.7439, 0.5429,\n",
              "         0.2822],\n",
              "        [0.5575, 0.3951, 0.4337, 0.6690, 0.5723, 0.4750, 0.6395, 0.7077, 0.3937,\n",
              "         0.3643],\n",
              "        [0.2541, 0.1421, 0.2445, 0.1833, 0.1199, 0.4768, 0.1964, 0.4651, 0.1269,\n",
              "         0.5865],\n",
              "        [0.2919, 0.3935, 0.1812, 0.5458, 0.7157, 0.3917, 0.0589, 0.4945, 0.2796,\n",
              "         0.7421],\n",
              "        [0.6717, 0.6640, 0.1847, 0.4091, 0.4748, 0.5360, 0.6750, 0.4199, 0.4078,\n",
              "         0.7513],\n",
              "        [0.7164, 0.4903, 0.0414, 0.5597, 0.1066, 0.0860, 0.5816, 0.4084, 0.4522,\n",
              "         0.7024],\n",
              "        [0.5735, 0.6120, 0.3393, 0.0167, 0.6832, 0.2405, 0.2520, 0.2183, 0.7172,\n",
              "         0.0064],\n",
              "        [0.5277, 0.6744, 0.4980, 0.5280, 0.6902, 0.3004, 0.6566, 0.6935, 0.7003,\n",
              "         0.0169],\n",
              "        [0.6668, 0.6822, 0.3814, 0.7581, 0.3764, 0.2568, 0.7346, 0.7017, 0.4824,\n",
              "         0.4183],\n",
              "        [0.3726, 0.4122, 0.6786, 0.3937, 0.4852, 0.4819, 0.3416, 0.0897, 0.4363,\n",
              "         0.3702],\n",
              "        [0.4113, 0.1690, 0.4424, 0.7037, 0.6949, 0.6565, 0.6590, 0.5100, 0.6206,\n",
              "         0.3513],\n",
              "        [0.0914, 0.7398, 0.5218, 0.4892, 0.3361, 0.0589, 0.1243, 0.6796, 0.4401,\n",
              "         0.6854],\n",
              "        [0.7193, 0.7130, 0.3299, 0.6164, 0.7439, 0.3757, 0.7485, 0.4171, 0.0080,\n",
              "         0.4036],\n",
              "        [0.6598, 0.4387, 0.5774, 0.2297, 0.3409, 0.7282, 0.5725, 0.7516, 0.0221,\n",
              "         0.6607],\n",
              "        [0.6322, 0.0209, 0.4460, 0.0861, 0.5947, 0.3786, 0.7090, 0.4939, 0.1538,\n",
              "         0.2193],\n",
              "        [0.7440, 0.2332, 0.6604, 0.4830, 0.6270, 0.6576, 0.7470, 0.6546, 0.4311,\n",
              "         0.6840],\n",
              "        [0.5369, 0.5256, 0.0044, 0.5897, 0.6832, 0.7357, 0.1109, 0.4374, 0.1446,\n",
              "         0.3097],\n",
              "        [0.5916, 0.7066, 0.4528, 0.7177, 0.0941, 0.7004, 0.7435, 0.2454, 0.6182,\n",
              "         0.7544],\n",
              "        [0.6065, 0.6596, 0.5072, 0.7439, 0.2814, 0.5623, 0.6611, 0.6126, 0.5325,\n",
              "         0.1991],\n",
              "        [0.1790, 0.2873, 0.7185, 0.1481, 0.7259, 0.6030, 0.3352, 0.1537, 0.1099,\n",
              "         0.3467],\n",
              "        [0.2009, 0.6839, 0.5748, 0.6975, 0.6815, 0.4084, 0.5422, 0.0382, 0.3804,\n",
              "         0.0674],\n",
              "        [0.5399, 0.6013, 0.7005, 0.3883, 0.7315, 0.6689, 0.3801, 0.0030, 0.7145,\n",
              "         0.7261],\n",
              "        [0.5866, 0.6125, 0.0570, 0.7208, 0.5863, 0.0053, 0.7248, 0.6384, 0.6745,\n",
              "         0.3795],\n",
              "        [0.3731, 0.5177, 0.2423, 0.1475, 0.5186, 0.3485, 0.6977, 0.7134, 0.6687,\n",
              "         0.5511],\n",
              "        [0.7535, 0.6143, 0.3674, 0.3325, 0.7594, 0.1726, 0.1318, 0.1843, 0.2137,\n",
              "         0.1005],\n",
              "        [0.5415, 0.4773, 0.3610, 0.0356, 0.7493, 0.5598, 0.4668, 0.3045, 0.5268,\n",
              "         0.2164],\n",
              "        [0.0777, 0.7388, 0.4471, 0.6657, 0.5872, 0.6716, 0.6231, 0.5372, 0.0693,\n",
              "         0.3037],\n",
              "        [0.6987, 0.6394, 0.4018, 0.5309, 0.5748, 0.0502, 0.6685, 0.3756, 0.7116,\n",
              "         0.6825],\n",
              "        [0.7465, 0.7485, 0.6421, 0.2984, 0.5813, 0.1308, 0.1462, 0.1096, 0.0895,\n",
              "         0.4523],\n",
              "        [0.7053, 0.1071, 0.3307, 0.5717, 0.4931, 0.5252, 0.3830, 0.6129, 0.6692,\n",
              "         0.7571],\n",
              "        [0.6182, 0.1217, 0.5590, 0.5119, 0.6294, 0.3345, 0.4237, 0.2746, 0.6315,\n",
              "         0.6026],\n",
              "        [0.6663, 0.3504, 0.7393, 0.6270, 0.0596, 0.5623, 0.3004, 0.0779, 0.3552,\n",
              "         0.7510],\n",
              "        [0.2971, 0.4216, 0.6391, 0.1551, 0.2571, 0.4756, 0.3453, 0.7605, 0.7577,\n",
              "         0.5468],\n",
              "        [0.5025, 0.6951, 0.5725, 0.6896, 0.7511, 0.1249, 0.4069, 0.5175, 0.3021,\n",
              "         0.6886],\n",
              "        [0.2954, 0.1987, 0.4413, 0.0429, 0.7220, 0.7406, 0.1765, 0.7542, 0.2557,\n",
              "         0.3706],\n",
              "        [0.7231, 0.1490, 0.6237, 0.2782, 0.6790, 0.3830, 0.3015, 0.6350, 0.6685,\n",
              "         0.2920],\n",
              "        [0.6719, 0.4234, 0.6105, 0.6420, 0.5696, 0.2833, 0.3997, 0.5297, 0.7001,\n",
              "         0.6251],\n",
              "        [0.3907, 0.3968, 0.0343, 0.6936, 0.0117, 0.2160, 0.7242, 0.5087, 0.5740,\n",
              "         0.4372],\n",
              "        [0.4204, 0.2608, 0.7396, 0.7046, 0.0055, 0.7107, 0.6821, 0.2713, 0.4384,\n",
              "         0.1154],\n",
              "        [0.2707, 0.4291, 0.1365, 0.0899, 0.0931, 0.5411, 0.1230, 0.1326, 0.6933,\n",
              "         0.6960],\n",
              "        [0.0266, 0.5415, 0.3140, 0.0193, 0.1501, 0.6822, 0.6389, 0.3041, 0.7125,\n",
              "         0.6731],\n",
              "        [0.7610, 0.3234, 0.6015, 0.3289, 0.0288, 0.3537, 0.6735, 0.0117, 0.2886,\n",
              "         0.4201],\n",
              "        [0.4249, 0.4723, 0.4734, 0.1533, 0.0107, 0.1894, 0.5589, 0.5653, 0.1675,\n",
              "         0.2154],\n",
              "        [0.5712, 0.6789, 0.5187, 0.1307, 0.2932, 0.4724, 0.2763, 0.3455, 0.1931,\n",
              "         0.3674],\n",
              "        [0.4187, 0.4540, 0.7410, 0.7214, 0.3736, 0.4019, 0.5881, 0.6464, 0.6756,\n",
              "         0.4979],\n",
              "        [0.1170, 0.0351, 0.3455, 0.0905, 0.5043, 0.1184, 0.2630, 0.0160, 0.6229,\n",
              "         0.3764],\n",
              "        [0.6551, 0.6497, 0.1689, 0.6923, 0.3442, 0.7447, 0.3466, 0.5348, 0.6508,\n",
              "         0.1467],\n",
              "        [0.6658, 0.2062, 0.7208, 0.4827, 0.4857, 0.4488, 0.2610, 0.1222, 0.7110,\n",
              "         0.4280],\n",
              "        [0.1603, 0.3638, 0.1639, 0.2747, 0.3505, 0.6637, 0.6693, 0.0800, 0.7468,\n",
              "         0.7582],\n",
              "        [0.6982, 0.5529, 0.6102, 0.6755, 0.2805, 0.3628, 0.3296, 0.4739, 0.3326,\n",
              "         0.4391],\n",
              "        [0.6802, 0.6674, 0.4388, 0.5426, 0.0712, 0.3670, 0.3906, 0.7382, 0.6093,\n",
              "         0.0439],\n",
              "        [0.7037, 0.4571, 0.6456, 0.5553, 0.2612, 0.0754, 0.2117, 0.3030, 0.3685,\n",
              "         0.6202],\n",
              "        [0.5618, 0.6672, 0.2338, 0.7219, 0.0338, 0.2873, 0.2381, 0.7441, 0.1507,\n",
              "         0.5701],\n",
              "        [0.5608, 0.5985, 0.7153, 0.3976, 0.7117, 0.5843, 0.4388, 0.5568, 0.3294,\n",
              "         0.2731],\n",
              "        [0.4906, 0.1655, 0.2165, 0.1025, 0.0796, 0.1665, 0.1210, 0.5399, 0.7044,\n",
              "         0.2220],\n",
              "        [0.4657, 0.0613, 0.3688, 0.5736, 0.1737, 0.0038, 0.2119, 0.7080, 0.5708,\n",
              "         0.1430],\n",
              "        [0.0206, 0.4639, 0.0648, 0.1426, 0.5269, 0.5989, 0.7453, 0.1500, 0.6665,\n",
              "         0.0735],\n",
              "        [0.0702, 0.4898, 0.7413, 0.2586, 0.7606, 0.6914, 0.7046, 0.4022, 0.6245,\n",
              "         0.3884],\n",
              "        [0.6101, 0.1265, 0.1899, 0.4219, 0.6556, 0.6563, 0.0681, 0.4763, 0.4713,\n",
              "         0.1947],\n",
              "        [0.5955, 0.6697, 0.6923, 0.3337, 0.2145, 0.1741, 0.1088, 0.0747, 0.5755,\n",
              "         0.5575],\n",
              "        [0.5125, 0.6948, 0.2083, 0.0777, 0.6719, 0.7570, 0.1474, 0.4936, 0.5375,\n",
              "         0.0680],\n",
              "        [0.5903, 0.6741, 0.3481, 0.5056, 0.2839, 0.6941, 0.1296, 0.7415, 0.1249,\n",
              "         0.3977],\n",
              "        [0.6705, 0.7119, 0.1857, 0.2994, 0.3947, 0.2597, 0.3027, 0.0836, 0.2477,\n",
              "         0.0934],\n",
              "        [0.2434, 0.2146, 0.4662, 0.3613, 0.1813, 0.5623, 0.1239, 0.1678, 0.1865,\n",
              "         0.1955],\n",
              "        [0.6009, 0.4413, 0.4530, 0.4507, 0.4004, 0.4572, 0.4789, 0.6673, 0.0631,\n",
              "         0.2923],\n",
              "        [0.2103, 0.7128, 0.0391, 0.6836, 0.4209, 0.6110, 0.0249, 0.2885, 0.5080,\n",
              "         0.2266],\n",
              "        [0.2966, 0.7401, 0.4443, 0.4087, 0.3278, 0.5751, 0.7427, 0.5439, 0.6647,\n",
              "         0.6297],\n",
              "        [0.2369, 0.7361, 0.5836, 0.2194, 0.6292, 0.3375, 0.3117, 0.3186, 0.7279,\n",
              "         0.6011],\n",
              "        [0.0369, 0.1866, 0.1098, 0.5549, 0.6690, 0.0070, 0.6420, 0.0431, 0.7141,\n",
              "         0.0388],\n",
              "        [0.4187, 0.6658, 0.2252, 0.2986, 0.2267, 0.0054, 0.6401, 0.0882, 0.1393,\n",
              "         0.4215],\n",
              "        [0.0427, 0.3519, 0.7057, 0.4403, 0.4348, 0.1975, 0.2584, 0.1681, 0.7547,\n",
              "         0.3198],\n",
              "        [0.4451, 0.4057, 0.4721, 0.4264, 0.0752, 0.4571, 0.3758, 0.5109, 0.7474,\n",
              "         0.4948],\n",
              "        [0.2037, 0.4248, 0.4806, 0.4945, 0.3507, 0.6393, 0.5156, 0.7582, 0.6866,\n",
              "         0.1922],\n",
              "        [0.6247, 0.7104, 0.4113, 0.0817, 0.6962, 0.1159, 0.3195, 0.0083, 0.4873,\n",
              "         0.3985],\n",
              "        [0.5615, 0.2907, 0.7033, 0.6561, 0.0810, 0.7151, 0.0989, 0.5756, 0.4419,\n",
              "         0.6044],\n",
              "        [0.3738, 0.5212, 0.6376, 0.4551, 0.5991, 0.7207, 0.5145, 0.4285, 0.4583,\n",
              "         0.6486],\n",
              "        [0.1025, 0.7042, 0.0308, 0.5726, 0.6304, 0.5308, 0.2947, 0.3140, 0.3915,\n",
              "         0.3954],\n",
              "        [0.2390, 0.5069, 0.7477, 0.1406, 0.0684, 0.0049, 0.5551, 0.0616, 0.7016,\n",
              "         0.2414],\n",
              "        [0.2127, 0.5582, 0.3318, 0.5816, 0.2104, 0.5866, 0.4536, 0.4113, 0.2238,\n",
              "         0.1662],\n",
              "        [0.7328, 0.5097, 0.6571, 0.4972, 0.6413, 0.3911, 0.2478, 0.6468, 0.4905,\n",
              "         0.1540],\n",
              "        [0.5181, 0.2542, 0.1891, 0.5830, 0.1151, 0.5729, 0.5604, 0.5738, 0.1626,\n",
              "         0.1653],\n",
              "        [0.1888, 0.4138, 0.6597, 0.5829, 0.3159, 0.0631, 0.5854, 0.5215, 0.0207,\n",
              "         0.1864],\n",
              "        [0.7231, 0.3035, 0.2091, 0.6075, 0.2880, 0.3492, 0.4087, 0.3609, 0.0654,\n",
              "         0.4906],\n",
              "        [0.7070, 0.1249, 0.7230, 0.4406, 0.6474, 0.2250, 0.5659, 0.4991, 0.2060,\n",
              "         0.5220],\n",
              "        [0.7414, 0.2052, 0.2306, 0.4343, 0.0135, 0.7303, 0.5740, 0.6011, 0.2034,\n",
              "         0.5615],\n",
              "        [0.6042, 0.2747, 0.2979, 0.5538, 0.5903, 0.3218, 0.6719, 0.0812, 0.6827,\n",
              "         0.7411],\n",
              "        [0.7054, 0.7015, 0.7053, 0.7095, 0.7317, 0.5677, 0.2959, 0.7612, 0.1368,\n",
              "         0.5277],\n",
              "        [0.4634, 0.3134, 0.5574, 0.5547, 0.2825, 0.3731, 0.2712, 0.0878, 0.2337,\n",
              "         0.6941],\n",
              "        [0.3879, 0.1117, 0.7095, 0.0379, 0.1255, 0.5625, 0.7052, 0.5414, 0.6780,\n",
              "         0.3517],\n",
              "        [0.6149, 0.5123, 0.0511, 0.4604, 0.3247, 0.7607, 0.7411, 0.2912, 0.3271,\n",
              "         0.5516],\n",
              "        [0.2969, 0.0276, 0.7510, 0.7407, 0.5860, 0.7078, 0.0281, 0.6657, 0.6664,\n",
              "         0.7468],\n",
              "        [0.5915, 0.6290, 0.1724, 0.5197, 0.0366, 0.2835, 0.3094, 0.5513, 0.2922,\n",
              "         0.7062]])"
            ]
          },
          "metadata": {},
          "execution_count": 15
        }
      ]
    },
    {
      "cell_type": "code",
      "source": [
        "print('Output size : ',output_x.size())\n",
        "print('Output size : ',output_y.size())"
      ],
      "metadata": {
        "colab": {
          "base_uri": "https://localhost:8080/"
        },
        "id": "1A6MT07Kijwn",
        "outputId": "ae666dc7-cf39-4e02-af03-cb6bcacd6cb8"
      },
      "execution_count": 16,
      "outputs": [
        {
          "output_type": "stream",
          "name": "stdout",
          "text": [
            "Output size :  torch.Size([100, 10])\n",
            "Output size :  torch.Size([100, 30])\n"
          ]
        }
      ]
    },
    {
      "cell_type": "code",
      "source": [
        "print(x[0])"
      ],
      "metadata": {
        "colab": {
          "base_uri": "https://localhost:8080/"
        },
        "id": "o4X0hUfsis9r",
        "outputId": "aa117276-82ab-49e3-d4c9-9758e41a916c"
      },
      "execution_count": 17,
      "outputs": [
        {
          "output_type": "stream",
          "name": "stdout",
          "text": [
            "tensor([0.1711, 0.6796, 0.8871, 0.3679, 0.4145, 0.4877, 0.4618, 0.3559, 0.6879,\n",
            "        0.7244])\n"
          ]
        }
      ]
    },
    {
      "cell_type": "code",
      "source": [
        "print(x[2])"
      ],
      "metadata": {
        "colab": {
          "base_uri": "https://localhost:8080/"
        },
        "id": "FOUMo6PVivpt",
        "outputId": "392ac8e7-0070-4937-bcad-0f06d0d29820"
      },
      "execution_count": 18,
      "outputs": [
        {
          "output_type": "stream",
          "name": "stdout",
          "text": [
            "tensor([0.3015, 0.1120, 0.4457, 0.6693, 0.9618, 0.8742, 0.1573, 0.3829, 0.9771,\n",
            "        0.3143])\n"
          ]
        }
      ]
    },
    {
      "cell_type": "code",
      "source": [
        "print(output_x[2])"
      ],
      "metadata": {
        "colab": {
          "base_uri": "https://localhost:8080/"
        },
        "id": "1uXq9m8siyIM",
        "outputId": "1d9564da-3f6b-44e4-b3e1-f8c46831592f"
      },
      "execution_count": 19,
      "outputs": [
        {
          "output_type": "stream",
          "name": "stdout",
          "text": [
            "tensor([0.2927, 0.1115, 0.4183, 0.5845, 0.7451, 0.7035, 0.1560, 0.3652, 0.7518,\n",
            "        0.3043])\n"
          ]
        }
      ]
    },
    {
      "cell_type": "code",
      "source": [
        "#ReLU activation function\n",
        "x=Variable(torch.rand(100,10))\n",
        "y=Variable(torch.rand(100,30))"
      ],
      "metadata": {
        "id": "QH4Tp6Rri2R0"
      },
      "execution_count": 20,
      "outputs": []
    },
    {
      "cell_type": "code",
      "source": [
        "relufunction=nn.ReLU()\n",
        "output_x=relufunction(x)\n",
        "output_y=relufunction(y)"
      ],
      "metadata": {
        "id": "zCy9vo45jCtq"
      },
      "execution_count": 21,
      "outputs": []
    },
    {
      "cell_type": "code",
      "source": [
        "print(x[12])"
      ],
      "metadata": {
        "colab": {
          "base_uri": "https://localhost:8080/"
        },
        "id": "uHjyZZOYjMXR",
        "outputId": "fda565be-a072-46b2-b598-7f72257668d1"
      },
      "execution_count": 22,
      "outputs": [
        {
          "output_type": "stream",
          "name": "stdout",
          "text": [
            "tensor([0.0981, 0.9861, 0.3157, 0.0627, 0.4282, 0.6982, 0.4504, 0.2312, 0.8577,\n",
            "        0.9097])\n"
          ]
        }
      ]
    },
    {
      "cell_type": "code",
      "source": [
        "print(output_x[12])"
      ],
      "metadata": {
        "colab": {
          "base_uri": "https://localhost:8080/"
        },
        "id": "4gkH6s49jPEQ",
        "outputId": "007857ec-2310-429d-a6d3-6e3af2a9f046"
      },
      "execution_count": 23,
      "outputs": [
        {
          "output_type": "stream",
          "name": "stdout",
          "text": [
            "tensor([0.0981, 0.9861, 0.3157, 0.0627, 0.4282, 0.6982, 0.4504, 0.2312, 0.8577,\n",
            "        0.9097])\n"
          ]
        }
      ]
    },
    {
      "cell_type": "markdown",
      "source": [
        "Now, we will plot the activation function."
      ],
      "metadata": {
        "id": "yFELRI5qjc2W"
      }
    },
    {
      "cell_type": "code",
      "source": [
        "from ast import increment_lineno\n",
        "import matplotlib.pyplot as plt\n",
        "%matplotlib inline"
      ],
      "metadata": {
        "id": "LBjlJOtUjRlr"
      },
      "execution_count": 24,
      "outputs": []
    },
    {
      "cell_type": "code",
      "source": [
        "x=torch.linspace(-10,10,1500)\n",
        "x=Variable(x)\n",
        "x_1=x.data.numpy()"
      ],
      "metadata": {
        "id": "-3UOR7CWjrHn"
      },
      "execution_count": 27,
      "outputs": []
    },
    {
      "cell_type": "code",
      "source": [
        "y_relu=F.relu(x).data.numpy()\n",
        "y_sigmoid=torch.sigmoid(x).data.numpy()\n",
        "y_tanh=torch.tanh(x).data.numpy()\n",
        "y_softplut=F.softplus(x).data.numpy()"
      ],
      "metadata": {
        "id": "bpwkufhXjwU1"
      },
      "execution_count": 29,
      "outputs": []
    },
    {
      "cell_type": "code",
      "source": [
        "plt.figure(figsize=(7,4))\n",
        "plt.plot(x_1,y_relu,c='blue',label='ReLU')\n",
        "plt.ylim((-1,11))\n",
        "plt.legend(loc='best')"
      ],
      "metadata": {
        "colab": {
          "base_uri": "https://localhost:8080/",
          "height": 386
        },
        "id": "qkG-FHd0kTDR",
        "outputId": "5924fa49-8e70-4f5e-e37d-166091acda28"
      },
      "execution_count": 30,
      "outputs": [
        {
          "output_type": "execute_result",
          "data": {
            "text/plain": [
              "<matplotlib.legend.Legend at 0x7ae682d8ce50>"
            ]
          },
          "metadata": {},
          "execution_count": 30
        },
        {
          "output_type": "display_data",
          "data": {
            "text/plain": [
              "<Figure size 700x400 with 1 Axes>"
            ],
            "image/png": "[encoded data removed]"
          },
          "metadata": {}
        }
      ]
    },
    {
      "cell_type": "code",
      "source": [
        "plt.figure(figsize=(7,4))\n",
        "plt.plot(x_1,y_sigmoid,c='blue',label='Sigmoid')\n",
        "plt.ylim((-0.2,1.5))\n",
        "plt.legend(loc='best')"
      ],
      "metadata": {
        "colab": {
          "base_uri": "https://localhost:8080/",
          "height": 386
        },
        "id": "uRGMiHEYk_GY",
        "outputId": "f72f233d-4dba-4ff9-a142-334a818fee0a"
      },
      "execution_count": 36,
      "outputs": [
        {
          "output_type": "execute_result",
          "data": {
            "text/plain": [
              "<matplotlib.legend.Legend at 0x7ae6827eab30>"
            ]
          },
          "metadata": {},
          "execution_count": 36
        },
        {
          "output_type": "display_data",
          "data": {
            "text/plain": [
              "<Figure size 700x400 with 1 Axes>"
            ],
            "image/png": "[encoded data removed]"
          },
          "metadata": {}
        }
      ]
    },
    {
      "cell_type": "code",
      "source": [
        "plt.figure(figsize=(7,4))\n",
        "plt.plot(x_1,y_tanh,c='blue',label='Hyperbolic Tangent')\n",
        "plt.ylim((-1.5,1.5))\n",
        "plt.legend(loc='best')"
      ],
      "metadata": {
        "colab": {
          "base_uri": "https://localhost:8080/",
          "height": 392
        },
        "id": "Sg78H9yelDvZ",
        "outputId": "4a30e03b-6674-40e4-d168-80cd0ea4e862"
      },
      "execution_count": 38,
      "outputs": [
        {
          "output_type": "execute_result",
          "data": {
            "text/plain": [
              "<matplotlib.legend.Legend at 0x7ae6825b3130>"
            ]
          },
          "metadata": {},
          "execution_count": 38
        },
        {
          "output_type": "display_data",
          "data": {
            "text/plain": [
              "<Figure size 700x400 with 1 Axes>"
            ],
            "image/png": "[encoded data removed]"
          },
          "metadata": {}
        }
      ]
    },
    {
      "cell_type": "code",
      "source": [
        "plt.figure(figsize=(7,4))\n",
        "plt.plot(x_1,y_softplut,c='blue',label='Softplus')\n",
        "plt.ylim((-.5,12.5))\n",
        "plt.legend(loc='best')"
      ],
      "metadata": {
        "colab": {
          "base_uri": "https://localhost:8080/",
          "height": 386
        },
        "id": "rGH7kjzMlUZl",
        "outputId": "8e985cdf-0d10-4b91-a9a4-2827375bdf08"
      },
      "execution_count": 41,
      "outputs": [
        {
          "output_type": "execute_result",
          "data": {
            "text/plain": [
              "<matplotlib.legend.Legend at 0x7ae68270e6b0>"
            ]
          },
          "metadata": {},
          "execution_count": 41
        },
        {
          "output_type": "display_data",
          "data": {
            "text/plain": [
              "<Figure size 700x400 with 1 Axes>"
            ],
            "image/png": "[encoded data removed]"
          },
          "metadata": {}
        }
      ]
    },
    {
      "cell_type": "markdown",
      "source": [
        "Now, we will make a basic neural netwrok in PyTorch which usually involves six steps. These six steps are : preparing training data, initializing weights, creating a basic network model, calculating the loss function, selecting the learning rate, and optimizing the loss function with respect to the model’s parameters."
      ],
      "metadata": {
        "id": "pOil8y2Hl56k"
      }
    },
    {
      "cell_type": "code",
      "source": [
        "def prep_data():\n",
        "  train_X=np.asarray([11.1,12.2,13.3,33,44,55,6.7,7.8,8.9,9.01,12.56,8.8,12.45678,5,1,2,4]\n",
        "                     )\n",
        "  train_Y=np.asarray([1.1,2.2,13.3,3,44,5,6.7,3.8,8.9,9.01,12.56,8.8,12.478,5,0,2,1]\n",
        "                     )\n",
        "  dtype=torch.FloatTensor\n",
        "  X=Variable(torch.from_numpy(train_X).type(dtype),requires_grad=False).view(17,1)\n",
        "  y=Variable(torch.from_numpy(train_Y).type(dtype),requires_grad=False).view(17,1)\n",
        "  return X,y"
      ],
      "metadata": {
        "id": "-iDPwUO1mHBk"
      },
      "execution_count": 42,
      "outputs": []
    },
    {
      "cell_type": "code",
      "source": [
        "def set_weights():\n",
        "  w=Variable(torch.randn(1),requires_grad=True)\n",
        "  b=Variable(torch.randn(1),requires_grad=True)\n",
        "  return w,b"
      ],
      "metadata": {
        "id": "rqYlR9IjneAW"
      },
      "execution_count": 43,
      "outputs": []
    },
    {
      "cell_type": "code",
      "source": [
        "def build_network(x):\n",
        "  y_pred=torch.matmul(x,w)+b\n",
        "  return y_pred"
      ],
      "metadata": {
        "id": "sdHeDeJ9nxzy"
      },
      "execution_count": 44,
      "outputs": []
    },
    {
      "cell_type": "code",
      "source": [
        "import torch.nn as nn\n",
        "f=nn.Linear(17,1)\n",
        "f"
      ],
      "metadata": {
        "colab": {
          "base_uri": "https://localhost:8080/"
        },
        "id": "kIlDzLskn-av",
        "outputId": "9f193820-5972-45bd-fe42-2ee35e1e15ff"
      },
      "execution_count": 45,
      "outputs": [
        {
          "output_type": "execute_result",
          "data": {
            "text/plain": [
              "Linear(in_features=17, out_features=1, bias=True)"
            ]
          },
          "metadata": {},
          "execution_count": 45
        }
      ]
    },
    {
      "cell_type": "code",
      "source": [
        "def loss_calc(y,y_pred):\n",
        "  loss=(y_pred-y).pow(2).sum()\n",
        "  for param in [w,b]:\n",
        "    if not param.grad is None: param.grad.data.zero_()\n",
        "    loss.backward()\n",
        "    return loss.data[0]\n"
      ],
      "metadata": {
        "id": "May_RcHwoH9g"
      },
      "execution_count": 46,
      "outputs": []
    },
    {
      "cell_type": "code",
      "source": [
        "def optimize(learning_rate):\n",
        "  w_data-=learning_rate*w.grad.data\n",
        "  b_data-=learning_rate*b.grad.data"
      ],
      "metadata": {
        "id": "39NS1Rg3o-b8"
      },
      "execution_count": 47,
      "outputs": []
    },
    {
      "cell_type": "code",
      "source": [
        "learning_rate=1e-4"
      ],
      "metadata": {
        "id": "301IKWi_pToM"
      },
      "execution_count": 48,
      "outputs": []
    },
    {
      "cell_type": "code",
      "source": [
        "x,y=prep_data()\n",
        "w,b=set_weights()"
      ],
      "metadata": {
        "id": "6ic6dZWTpYoz"
      },
      "execution_count": 51,
      "outputs": []
    },
    {
      "cell_type": "code",
      "source": [
        "for i in range(5000):\n",
        "    y_pred=build_network(x)\n",
        "    loss=loss_calc(y,y_pred)\n",
        "    if i % 1000==0:\n",
        "      print(loss)\n",
        "    optimize(learning_rate)"
      ],
      "metadata": {
        "colab": {
          "base_uri": "https://localhost:8080/",
          "height": 323
        },
        "id": "JfUyTdjxp33b",
        "outputId": "958ccd43-0849-49e1-9a22-6d3ce6787cfd"
      },
      "execution_count": 57,
      "outputs": [
        {
          "output_type": "error",
          "ename": "IndexError",
          "evalue": "invalid index of a 0-dim tensor. Use `tensor.item()` in Python or `tensor.item<T>()` in C++ to convert a 0-dim tensor to a number",
          "traceback": [
            "\u001b[0;31m---------------------------------------------------------------------------\u001b[0m",
            "\u001b[0;31mIndexError\u001b[0m                                Traceback (most recent call last)",
            "\u001b[0;32m<ipython-input-57-4583496481f2>\u001b[0m in \u001b[0;36m<cell line: 1>\u001b[0;34m()\u001b[0m\n\u001b[1;32m      1\u001b[0m \u001b[0;32mfor\u001b[0m \u001b[0mi\u001b[0m \u001b[0;32min\u001b[0m \u001b[0mrange\u001b[0m\u001b[0;34m(\u001b[0m\u001b[0;36m5000\u001b[0m\u001b[0;34m)\u001b[0m\u001b[0;34m:\u001b[0m\u001b[0;34m\u001b[0m\u001b[0;34m\u001b[0m\u001b[0m\n\u001b[1;32m      2\u001b[0m     \u001b[0my_pred\u001b[0m\u001b[0;34m=\u001b[0m\u001b[0mbuild_network\u001b[0m\u001b[0;34m(\u001b[0m\u001b[0mx\u001b[0m\u001b[0;34m)\u001b[0m\u001b[0;34m\u001b[0m\u001b[0;34m\u001b[0m\u001b[0m\n\u001b[0;32m----> 3\u001b[0;31m     \u001b[0mloss\u001b[0m\u001b[0;34m=\u001b[0m\u001b[0mloss_calc\u001b[0m\u001b[0;34m(\u001b[0m\u001b[0my\u001b[0m\u001b[0;34m,\u001b[0m\u001b[0my_pred\u001b[0m\u001b[0;34m)\u001b[0m\u001b[0;34m\u001b[0m\u001b[0;34m\u001b[0m\u001b[0m\n\u001b[0m\u001b[1;32m      4\u001b[0m     \u001b[0;32mif\u001b[0m \u001b[0mi\u001b[0m \u001b[0;34m%\u001b[0m \u001b[0;36m1000\u001b[0m\u001b[0;34m==\u001b[0m\u001b[0;36m0\u001b[0m\u001b[0;34m:\u001b[0m\u001b[0;34m\u001b[0m\u001b[0;34m\u001b[0m\u001b[0m\n\u001b[1;32m      5\u001b[0m       \u001b[0mprint\u001b[0m\u001b[0;34m(\u001b[0m\u001b[0mloss\u001b[0m\u001b[0;34m)\u001b[0m\u001b[0;34m\u001b[0m\u001b[0;34m\u001b[0m\u001b[0m\n",
            "\u001b[0;32m<ipython-input-46-94f3221653bb>\u001b[0m in \u001b[0;36mloss_calc\u001b[0;34m(y, y_pred)\u001b[0m\n\u001b[1;32m      4\u001b[0m     \u001b[0;32mif\u001b[0m \u001b[0;32mnot\u001b[0m \u001b[0mparam\u001b[0m\u001b[0;34m.\u001b[0m\u001b[0mgrad\u001b[0m \u001b[0;32mis\u001b[0m \u001b[0;32mNone\u001b[0m\u001b[0;34m:\u001b[0m \u001b[0mparam\u001b[0m\u001b[0;34m.\u001b[0m\u001b[0mgrad\u001b[0m\u001b[0;34m.\u001b[0m\u001b[0mdata\u001b[0m\u001b[0;34m.\u001b[0m\u001b[0mzero_\u001b[0m\u001b[0;34m(\u001b[0m\u001b[0;34m)\u001b[0m\u001b[0;34m\u001b[0m\u001b[0;34m\u001b[0m\u001b[0m\n\u001b[1;32m      5\u001b[0m     \u001b[0mloss\u001b[0m\u001b[0;34m.\u001b[0m\u001b[0mbackward\u001b[0m\u001b[0;34m(\u001b[0m\u001b[0;34m)\u001b[0m\u001b[0;34m\u001b[0m\u001b[0;34m\u001b[0m\u001b[0m\n\u001b[0;32m----> 6\u001b[0;31m     \u001b[0;32mreturn\u001b[0m \u001b[0mloss\u001b[0m\u001b[0;34m.\u001b[0m\u001b[0mdata\u001b[0m\u001b[0;34m[\u001b[0m\u001b[0;36m0\u001b[0m\u001b[0;34m]\u001b[0m\u001b[0;34m\u001b[0m\u001b[0;34m\u001b[0m\u001b[0m\n\u001b[0m",
            "\u001b[0;31mIndexError\u001b[0m: invalid index of a 0-dim tensor. Use `tensor.item()` in Python or `tensor.item<T>()` in C++ to convert a 0-dim tensor to a number"
          ]
        }
      ]
    },
    {
      "cell_type": "code",
      "source": [],
      "metadata": {
        "id": "2pewzXDoqnjP"
      },
      "execution_count": null,
      "outputs": []
    }
  ]
}